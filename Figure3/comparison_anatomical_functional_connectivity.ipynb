{
 "cells": [
  {
   "cell_type": "code",
   "execution_count": 1,
   "metadata": {
    "collapsed": true
   },
   "outputs": [],
   "source": [
    "import numpy as np\n",
    "import importlib\n",
    "import h5py\n",
    "import pandas as pd\n",
    "\n",
    "import matplotlib.pyplot as plt\n",
    "%matplotlib inline\n",
    "\n",
    "import seaborn as sns\n",
    "sns.set_style(\"ticks\")"
   ]
  },
  {
   "cell_type": "code",
   "execution_count": 2,
   "metadata": {
    "collapsed": true
   },
   "outputs": [],
   "source": [
    "areas = ['V1', 'LM', 'RL', 'AL',  'PM', 'AM']"
   ]
  },
  {
   "cell_type": "markdown",
   "metadata": {},
   "source": [
    "# load anatomical data"
   ]
  },
  {
   "cell_type": "code",
   "execution_count": 4,
   "metadata": {
    "collapsed": true
   },
   "outputs": [],
   "source": [
    "path_anatomy = '/Users/xiaoxuanj/Documents/presentations/ephys_platform_paper/figures/figure3_anatomy_CC/'"
   ]
  },
  {
   "cell_type": "code",
   "execution_count": 5,
   "metadata": {
    "collapsed": true
   },
   "outputs": [],
   "source": [
    "data = np.load(path_anatomy+'hscorediff_CortexLGNLP_CutCortex.npy')"
   ]
  },
  {
   "cell_type": "raw",
   "metadata": {},
   "source": [
    "new_data = data[[0,1,3,2,4,5],:][:,[0,1,3,2,4,5]]\n",
    "np.save(path_anatomy+'hscorediff_Cortex_correct.npy', new_data)"
   ]
  },
  {
   "cell_type": "code",
   "execution_count": 9,
   "metadata": {},
   "outputs": [
    {
     "data": {
      "image/png": "[encoded data removed]",
      "text/plain": [
       "<Figure size 432x288 with 2 Axes>"
      ]
     },
     "metadata": {},
     "output_type": "display_data"
    }
   ],
   "source": [
    "plt.imshow(data, cmap='bwr', vmax=0.8, vmin=-0.8)\n",
    "plt.xticks(range(6),areas, fontsize=13)\n",
    "plt.yticks(range(6),areas, fontsize=13)\n",
    "plt.colorbar()\n",
    "plt.title('Hierarchy score difference between areas', fontsize=14)\n",
    "#plt.savefig(path_anatomy+'tmp.pdf')\n",
    "plt.savefig('/Users/xiaoxuanj/work/work_allen/Ephys/figures/platform_paper/functional_connectivity/anatomical.pdf')\n"
   ]
  },
  {
   "cell_type": "markdown",
   "metadata": {},
   "source": [
    "# load functional data"
   ]
  },
  {
   "cell_type": "code",
   "execution_count": 10,
   "metadata": {
    "collapsed": true
   },
   "outputs": [],
   "source": [
    "path_function = '/Users/xiaoxuanj/work/work_allen/Ephys/processed_data/adjacency_matrix/'\n",
    "#data_f = np.load(path_function+'ccg_peak_offset_tmp20190709_limit20ms.npy')\n"
   ]
  },
  {
   "cell_type": "code",
   "execution_count": 11,
   "metadata": {
    "collapsed": true
   },
   "outputs": [],
   "source": [
    "#[data_f, N_connection] = np.load(path_function+'FC_paper090419.npy')\n",
    "[COUNT, CCG_amp, data_f] = np.load(path_function+'FC_area_25mice_710std_resorted_high.npy')"
   ]
  },
  {
   "cell_type": "code",
   "execution_count": 12,
   "metadata": {},
   "outputs": [
    {
     "data": {
      "text/plain": [
       "array([[ 0.        , -2.75      , -0.31818182, -3.34375   , -3.0625    ,\n",
       "        -5.69230769],\n",
       "       [ 3.        ,  0.025     ,  2.31818182,  0.32142857, -1.        ,\n",
       "        -3.55555556],\n",
       "       [ 0.5       , -1.29166667,  0.        , -3.91666667, -3.83333333,\n",
       "        -1.25      ],\n",
       "       [ 3.26666667, -0.10714286,  4.08333333,  0.025     ,  0.35714286,\n",
       "        -2.23076923],\n",
       "       [ 3.375     ,  1.75      ,  4.16666667, -0.5       ,  0.        ,\n",
       "        -1.31818182],\n",
       "       [ 6.46666667,  2.5       ,  1.95      ,  2.46153846,  1.72727273,\n",
       "         0.02173913]])"
      ]
     },
     "execution_count": 12,
     "metadata": {},
     "output_type": "execute_result"
    }
   ],
   "source": [
    "data_f"
   ]
  },
  {
   "cell_type": "code",
   "execution_count": 13,
   "metadata": {},
   "outputs": [
    {
     "data": {
      "image/png": "[encoded data removed]",
      "text/plain": [
       "<Figure size 432x288 with 2 Axes>"
      ]
     },
     "metadata": {},
     "output_type": "display_data"
    }
   ],
   "source": [
    "plt.imshow(data_f, cmap='bwr', vmax=6, vmin=-6)\n",
    "plt.xticks(range(6),areas, fontsize=13)\n",
    "plt.yticks(range(6),areas, fontsize=13)\n",
    "plt.colorbar()\n",
    "plt.title('Functional delay between areas', fontsize=14)\n",
    "plt.savefig('/Users/xiaoxuanj/work/work_allen/Ephys/figures/platform_paper/functional_connectivity/functional_25.pdf')\n"
   ]
  },
  {
   "cell_type": "code",
   "execution_count": 14,
   "metadata": {},
   "outputs": [
    {
     "data": {
      "text/plain": [
       "array([[1.        , 0.81141051],\n",
       "       [0.81141051, 1.        ]])"
      ]
     },
     "execution_count": 14,
     "metadata": {},
     "output_type": "execute_result"
    }
   ],
   "source": [
    "np.corrcoef(data.flatten(), data_f.flatten())"
   ]
  },
  {
   "cell_type": "code",
   "execution_count": 22,
   "metadata": {},
   "outputs": [
    {
     "name": "stdout",
     "output_type": "stream",
     "text": [
      "$r_S$ = 0.78; $P_S$ = 1.98e-08\n",
      "$r_P$ = 0.81; $P_P$ = 1.9e-09\n"
     ]
    }
   ],
   "source": [
    "from scipy.stats import linregress, pearsonr, spearmanr\n",
    "\n",
    "x = data.flatten()\n",
    "y = data_f.flatten()\n",
    "\n",
    "r_s,p_s = spearmanr(x,y)\n",
    "r_p,p_p = pearsonr(x,y)\n",
    "\n",
    "text = '$r_S$ = ' + str(np.around(pow(r_s,1),2)) + '; $P_S$ = ' + str(np.around(p_s,10)) + '\\n' + \\\n",
    "          '$r_P$ = ' + str(np.around(pow(r_p,1),2)) + '; $P_P$ = ' + str(np.around(p_p,10))\n",
    "    \n",
    "print(text)"
   ]
  },
  {
   "cell_type": "code",
   "execution_count": 16,
   "metadata": {},
   "outputs": [
    {
     "data": {
      "text/plain": [
       "1.9781914579730135e-08"
      ]
     },
     "execution_count": 16,
     "metadata": {},
     "output_type": "execute_result"
    }
   ],
   "source": [
    "p_s"
   ]
  },
  {
   "cell_type": "code",
   "execution_count": 21,
   "metadata": {},
   "outputs": [
    {
     "data": {
      "image/png": "[encoded data removed]",
      "text/plain": [
       "<Figure size 360x360 with 1 Axes>"
      ]
     },
     "metadata": {},
     "output_type": "display_data"
    }
   ],
   "source": [
    "plt.figure(figsize=(5,5))\n",
    "plt.scatter(data.flatten(), data_f.flatten(), c='k', alpha=0.8)\n",
    "plt.xlim([-0.85, 0.85])\n",
    "plt.ylim([-8,8])\n",
    "plt.title('Pearsonr = '+str(0.81)+' pval=1.9E-9', fontsize=14)\n",
    "plt.xlabel('Hierarchical score difference', fontsize=14)\n",
    "plt.ylabel('Median of time lag (ms)', fontsize=14)\n",
    "#plt.savefig(path_anatomy+'mice27_6area_7std10ms_resorted_anatomy_function_corr.pdf')\n",
    "plt.savefig('/Users/xiaoxuanj/work/work_allen/Ephys/figures/platform_paper/functional_connectivity/anatomy_function_corr.pdf')\n"
   ]
  },
  {
   "cell_type": "code",
   "execution_count": null,
   "metadata": {
    "collapsed": true
   },
   "outputs": [],
   "source": []
  }
 ],
 "metadata": {
  "kernelspec": {
   "display_name": "Python 2",
   "language": "python",
   "name": "python2"
  },
  "language_info": {
   "codemirror_mode": {
    "name": "ipython",
    "version": 2
   },
   "file_extension": ".py",
   "mimetype": "text/x-python",
   "name": "python",
   "nbconvert_exporter": "python",
   "pygments_lexer": "ipython2",
   "version": "2.7.6"
  }
 },
 "nbformat": 4,
 "nbformat_minor": 2
}
